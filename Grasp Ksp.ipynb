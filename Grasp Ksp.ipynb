{
 "cells": [
  {
   "cell_type": "markdown",
   "id": "35b26be2-d2ba-448b-afc6-cd640610f77f",
   "metadata": {},
   "source": [
    "<h1 style=\"text-align: center;\"> University of 20 août 1955 - Skikda </h1>"
   ]
  },
  {
   "cell_type": "markdown",
   "id": "98dcc7d2-62a0-49be-930f-7f53c33392a8",
   "metadata": {},
   "source": [
    "<h2 style=\"text-align: center;\"> Faculty of Sciences - Department of Computer Science </h2>"
   ]
  },
  {
   "cell_type": "markdown",
   "id": "c835ddff-156f-4778-9ad5-48cbd1dd2af2",
   "metadata": {},
   "source": [
    "<h2 style=\"text-align: center;\"> M2 AI - Métaheuristiques - knapsack problem using grasp algorithm </h2>"
   ]
  },
  {
   "cell_type": "markdown",
   "id": "246a35e5-da0c-41f6-a01c-748873f6232c",
   "metadata": {},
   "source": [
    "<h2 style=\"text-align: center;\"> Biad Seifeddine </h2>"
   ]
  },
  {
   "cell_type": "code",
   "execution_count": 9,
   "id": "1568f247-e674-42a2-9759-b5fc320b6c28",
   "metadata": {},
   "outputs": [],
   "source": [
    "import random\n",
    "import matplotlib.pyplot as plt"
   ]
  },
  {
   "cell_type": "code",
   "execution_count": 41,
   "id": "176261af-a79d-427c-a7da-3e9639ead3b7",
   "metadata": {},
   "outputs": [],
   "source": [
    "def grasp_knapsack(weights, values, max_weight, R, max_iterations):\n",
    "    # Initialize the best solution and its objective function value\n",
    "    best_solution_indices = None\n",
    "    best_solution = None\n",
    "    best_value = 0\n",
    "    \n",
    "    for _ in range(max_iterations):\n",
    "        # Constructive Phase\n",
    "        current_solution_indices = []\n",
    "        current_weight = 0\n",
    "        current_value = 0\n",
    "        \n",
    "        while True:\n",
    "            # Identify candidates that can still fit in the knapsack\n",
    "            candidates = [(i, values[i] / weights[i]) for i in range(len(weights)) if i not in current_solution_indices and current_weight + weights[i] <= max_weight]\n",
    "            if not candidates:\n",
    "                break\n",
    "            \n",
    "            # Sort candidates by their value-to-weight ratio in descending order\n",
    "            candidates.sort(key=lambda x: x[1], reverse=True)\n",
    "            \n",
    "            # Build the RCL by selecting the top R candidates\n",
    "            rcl = candidates[:R]\n",
    "            \n",
    "            # Randomly select a candidate from RCL and add it to the current solution\n",
    "            selected_item = random.choice(rcl)[0]\n",
    "            current_solution_indices.append(selected_item)\n",
    "            current_weight += weights[selected_item]\n",
    "            current_value += values[selected_item]\n",
    "        \n",
    "        # Improvement Phase (Local Search)\n",
    "        improved_solution_indices, improved_value = local_search_knapsack(current_solution_indices, weights, values, max_weight)\n",
    "        \n",
    "        # Update the best solution if a better one is found\n",
    "        if improved_value > best_value:\n",
    "            best_solution_indices = improved_solution_indices\n",
    "            best_value = improved_value\n",
    "    \n",
    "    # Convert best solution indices to actual items (weights and values)\n",
    "    best_solution = [(weights[i], values[i]) for i in best_solution_indices]\n",
    "    \n",
    "    return best_solution, best_value"
   ]
  },
  {
   "cell_type": "code",
   "execution_count": 43,
   "id": "24c8dadf-cc51-4930-8f90-8d6bc744a323",
   "metadata": {},
   "outputs": [],
   "source": [
    "def local_search_knapsack(solution_indices, weights, values, max_weight):\n",
    "    # Try to improve the solution by swapping out items for better ones\n",
    "    best_solution_indices = solution_indices[:]\n",
    "    best_value = calculate_solution_value(solution_indices, weights, values)\n",
    "    \n",
    "    for i in range(len(weights)):\n",
    "        if i not in solution_indices:\n",
    "            for j in range(len(solution_indices)):\n",
    "                new_solution_indices = solution_indices[:]\n",
    "                new_solution_indices[j] = i  # Replace item in solution with a new item\n",
    "                if calculate_solution_weight(new_solution_indices, weights) <= max_weight:\n",
    "                    new_value = calculate_solution_value(new_solution_indices, weights, values)\n",
    "                    if new_value > best_value:\n",
    "                        best_solution_indices = new_solution_indices\n",
    "                        best_value = new_value\n",
    "    \n",
    "    return best_solution_indices, best_value"
   ]
  },
  {
   "cell_type": "code",
   "execution_count": 45,
   "id": "dd24c61a-35ef-40ff-9f70-7c57f4bcce4b",
   "metadata": {},
   "outputs": [],
   "source": [
    "def calculate_solution_value(solution_indices, weights, values):\n",
    "    return sum(values[i] for i in solution_indices)"
   ]
  },
  {
   "cell_type": "code",
   "execution_count": 47,
   "id": "41a6c0f0-1672-4ffb-9329-92c759cf1794",
   "metadata": {},
   "outputs": [],
   "source": [
    "def calculate_solution_weight(solution_indices, weights):\n",
    "    return sum(weights[i] for i in solution_indices)"
   ]
  },
  {
   "cell_type": "code",
   "execution_count": 49,
   "id": "7f6dc155-98dc-4860-820d-42efa5805347",
   "metadata": {},
   "outputs": [],
   "source": [
    "# Example Usage\n",
    "weights = [1, 13, 3, 4, 21, 1, 1, 9, 2]       # weights of items\n",
    "values = [60, 100, 120, 130, 240, 60, 60, 190, 80 ]     # values of items\n",
    "max_weight = 50                  # maximum weight capacity of the knapsack\n",
    "R = 2                            # length of the RCL\n",
    "max_iterations = 10              # number of GRASP iterations"
   ]
  },
  {
   "cell_type": "code",
   "execution_count": 51,
   "id": "d635ab53-3b4b-4213-a2e4-b198db234b74",
   "metadata": {},
   "outputs": [
    {
     "name": "stdout",
     "output_type": "stream",
     "text": [
      "Best solution (weight, value): [(1, 60), (1, 60), (3, 120), (1, 60), (2, 80), (9, 190), (4, 130), (21, 240)]\n",
      "Best value: 940\n"
     ]
    }
   ],
   "source": [
    "best_solution, best_value = grasp_knapsack(weights, values, max_weight, R, max_iterations)\n",
    "print(\"Best solution (weight, value):\", best_solution)\n",
    "print(\"Best value:\", best_value)"
   ]
  },
  {
   "cell_type": "code",
   "execution_count": null,
   "id": "94ade241-4d9d-4478-ae30-f89e9f94d77b",
   "metadata": {},
   "outputs": [],
   "source": []
  }
 ],
 "metadata": {
  "kernelspec": {
   "display_name": "Python 3 (ipykernel)",
   "language": "python",
   "name": "python3"
  },
  "language_info": {
   "codemirror_mode": {
    "name": "ipython",
    "version": 3
   },
   "file_extension": ".py",
   "mimetype": "text/x-python",
   "name": "python",
   "nbconvert_exporter": "python",
   "pygments_lexer": "ipython3",
   "version": "3.12.4"
  }
 },
 "nbformat": 4,
 "nbformat_minor": 5
}
